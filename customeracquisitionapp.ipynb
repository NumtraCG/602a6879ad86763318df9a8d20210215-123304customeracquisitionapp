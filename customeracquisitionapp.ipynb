{
 "cells": [
  {
   "cell_type": "markdown",
   "metadata": {},
   "source": [
    "***GENERATED CODE FOR customeracquisitionapp PIPELINE.***"
   ]
  },
  {
   "cell_type": "markdown",
   "metadata": {},
   "source": [
    "***DON'T EDIT THIS CODE.***"
   ]
  },
  {
   "cell_type": "markdown",
   "metadata": {},
   "source": [
    "***CONNECTOR FUNCTIONS TO READ DATA.***"
   ]
  },
  {
   "cell_type": "code",
   "execution_count": null,
   "metadata": {},
   "outputs": [],
   "source": []
  },
  {
   "cell_type": "markdown",
   "metadata": {},
   "source": [
    "***TRANSFORMATIONS FUNCTIONS THAT WILL BE APPLIED ON DATA***"
   ]
  },
  {
   "cell_type": "code",
   "execution_count": null,
   "metadata": {},
   "outputs": [],
   "source": [
    "import json\n",
    "from pyspark.sql.types import IntegerType\n",
    "from pyspark.ml.feature import StringIndexer\n",
    "from pyspark.sql.functions import col, when\n",
    "from pyspark.sql.types import IntegerType\n",
    "from pyspark.sql.functions import mean, stddev, min, max, col\n",
    "\n",
    "\n",
    "class CleanseData:\n",
    "    # def __init__(self,df):\n",
    "    #     #print()\n",
    "\n",
    "    def replaceByMean(self, feature, df, mean_=-1):\n",
    "\n",
    "        meanValue = df.select(mean(col(feature.name)).alias(\n",
    "            'mean')).collect()[0][\"mean\"]\n",
    "        df.fillna(meanValue, subset=[feature.name])\n",
    "        df.withColumn(feature.name, when(col(feature.name) == \" \",\n",
    "                                         meanValue).otherwise(col(feature.name).cast(\"Integer\")))\n",
    "        return df\n",
    "\n",
    "    def replaceByMax(self, feature, df, max_=-1):\n",
    "        maxValue = df.select(max(col(feature.name)).alias('max')).collect()[\n",
    "            0][\"max\"]\n",
    "        df.fillna(maxValue, subset=[feature.name])\n",
    "        df = df.withColumn(feature.name,\n",
    "                           when(col(feature.name) == \" \", maxValue).otherwise(col(feature.name)))\n",
    "        return df\n",
    "\n",
    "    def replaceByMin(self, feature, df, min_=-1):\n",
    "        minValue = df.select(min(col(feature.name)).alias('min')).collect()[\n",
    "            0][\"min\"]\n",
    "        df.fillna(minValue, subset=[feature.name])\n",
    "        df = df.withColumn(feature.name,\n",
    "                           when(col(feature.name) == \" \", minValue).otherwise(col(feature.name)))\n",
    "        return df\n",
    "\n",
    "    def replaceByStandardDeviation(self, feature, df, stddev_=-1):\n",
    "        stddevValue = df.select(stddev(col(feature.name)).alias(\n",
    "            'stddev')).collect()[0][\"stddev\"]\n",
    "        df.fillna(stddevValue, subset=[feature.name])\n",
    "        df = df.withColumn(feature.name,\n",
    "                           when(col(feature.name) == \" \", stddevValue).otherwise(col(feature.name)))\n",
    "        return df\n",
    "\n",
    "    def replaceDateRandomly(self, feature, df):\n",
    "        fillValue = df.where(col(feature.name).isNotNull()\n",
    "                             ).head(1)[0][feature.name]\n",
    "        df.fillna(str(fillValue), subset=[feature.name])\n",
    "        df = df.withColumn(feature.name,\n",
    "                           when(col(feature.name) == \" \", fillValue).otherwise(col(feature.name)))\n",
    "        # print(\"CleanseData:replaceDateRandomly Schema : \", df.#printSchema())\n",
    "        return df\n",
    "\n",
    "    def replaceNullValues(self, fList, df):\n",
    "        featuresList = df.schema.fields\n",
    "        for featureObj in fList:\n",
    "            for feat in featuresList:\n",
    "                if featureObj[\"feature\"] in feat.name:\n",
    "                    featureName = feat\n",
    "                    if \"mean\" in featureObj[\"replaceby\"]:\n",
    "                        df = self.replaceByMean(featureName, df)\n",
    "                    elif \"max\" in featureObj[\"replaceby\"]:\n",
    "                        df = self.replaceByMax(featureName, df)\n",
    "                    elif \"min\" in featureObj[\"replaceby\"]:\n",
    "                        df = self.replaceByMin(featureName, df)\n",
    "                    elif \"stddev\" in featureObj[\"replaceby\"]:\n",
    "                        df = self.replaceByStandardDeviation(featureName, df)\n",
    "                    elif \"random\" in featureObj[\"replaceby\"]:\n",
    "                        df = self.replaceDateRandomly(featureName, df)\n",
    "        return df\n",
    "\n",
    "\n",
    "def StringIndexerTransform(df, params, transformationData={}):\n",
    "    dfReturn = df\n",
    "    feature = params[\"feature\"]\n",
    "\n",
    "    dfReturn = dfReturn.fillna({feature: ''})\n",
    "    outcol = feature + \"_stringindexer\"\n",
    "    indexer = StringIndexer(\n",
    "        inputCol=feature, outputCol=outcol, handleInvalid=\"skip\")\n",
    "    indexed = indexer.fit(dfReturn).transform(dfReturn)\n",
    "    dfReturn = indexed\n",
    "    distinct_values_list = dfReturn.select(\n",
    "        outcol).distinct().rdd.map(lambda r: r[0]).collect()\n",
    "    len_distinct_values_list = len(distinct_values_list)\n",
    "    if len_distinct_values_list <= 4:\n",
    "        changed_type_df = dfReturn.withColumn(\n",
    "            outcol, dfReturn[outcol].cast(IntegerType()))\n",
    "        return changed_type_df\n",
    "    return dfReturn\n",
    "\n",
    "\n",
    "class TransformationMain:\n",
    "    # TODO: change df argument in run with following\n",
    "    def run(transformationDF, config):\n",
    "        configObj = json.loads(config)\n",
    "        featureData = configObj[\"FE\"]\n",
    "        transformationDF = CleanseData().replaceNullValues(featureData, transformationDF)\n",
    "        transformationDF = StringIndexerTransform(transformationDF, {'transformationsData': [{'transformation_label': 'String Indexer', 'feature_label': 'City'}], 'feature': 'City', 'type': 'string', 'selected': 'True', 'replaceby': 'max', 'stats': {\n",
    "                                                  'count': '351', 'mean': '', 'stddev': '', 'min': 'ARVADA', 'max': 'WHEAT RIDGE', 'missing': '0'}, 'transformation': [{'transformation': 'String Indexer', 'selectedAsDefault': 1}], 'updatedLabel': 'City'}, {'transformation_label': 'String Indexer', 'feature_label': 'City'})\n",
    "        transformationDF = transformationDF.drop('City')\n",
    "        transformationDF = StringIndexerTransform(transformationDF, {'transformationsData': [{'transformation_label': 'String Indexer', 'feature_label': 'Product_Category'}], 'feature': 'Product_Category', 'type': 'string', 'selected': 'True', 'replaceby': 'max', 'stats': {\n",
    "            'count': '351', 'mean': '', 'stddev': '', 'min': 'Furniture', 'max': 'Technology', 'missing': '0'}, 'transformation': [{'transformation': 'String Indexer', 'selectedAsDefault': 1}], 'updatedLabel': 'Product_Category'}, {'transformation_label': 'String Indexer', 'feature_label': 'Product_Category'})\n",
    "        transformationDF = transformationDF.drop('Product_Category')\n",
    "        transformationDF = StringIndexerTransform(transformationDF, {'transformationsData': [{'transformation_label': 'String Indexer', 'feature_label': 'Product_Sub-Category'}], 'feature': 'Product_Sub-Category', 'type': 'string', 'selected': 'True', 'replaceby': 'max', 'stats': {\n",
    "            'count': '351', 'mean': '', 'stddev': '', 'min': 'Appliances', 'max': 'Telephones and Communication', 'missing': '0'}, 'transformation': [{'transformation': 'String Indexer', 'selectedAsDefault': 1}], 'updatedLabel': 'Product_Sub-Category'}, {'transformation_label': 'String Indexer', 'feature_label': 'Product_Sub-Category'})\n",
    "        transformationDF = transformationDF.drop('Product_Sub-Category')\n",
    "        transformationDF = StringIndexerTransform(transformationDF, {'transformationsData': [{'transformation_label': 'String Indexer', 'feature_label': 'Customer Segment'}], 'feature': 'Customer Segment', 'type': 'string', 'selected': 'True', 'replaceby': 'max', 'stats': {\n",
    "            'count': '351', 'mean': '', 'stddev': '', 'min': 'Consumer', 'max': 'Small Business', 'missing': '0'}, 'transformation': [{'transformation': 'String Indexer', 'selectedAsDefault': 1}], 'updatedLabel': 'Customer Segment'}, {'transformation_label': 'String Indexer', 'feature_label': 'Customer Segment'})\n",
    "        transformationDF = transformationDF.drop('Customer Segment')\n",
    "        transformationDF = StringIndexerTransform(transformationDF, {'transformationsData': [{'transformation_label': 'String Indexer', 'feature_label': 'First Name'}], 'feature': 'First Name', 'type': 'string', 'selected': 'True', 'replaceby': 'max', 'stats': {\n",
    "            'count': '351', 'mean': '', 'stddev': '', 'min': 'ALXXX', 'max': 'WX', 'missing': '0'}, 'transformation': [{'transformation': 'String Indexer', 'selectedAsDefault': 1}], 'updatedLabel': 'First Name'}, {'transformation_label': 'String Indexer', 'feature_label': 'First Name'})\n",
    "        transformationDF = transformationDF.drop('First Name')\n",
    "        transformationDF = StringIndexerTransform(transformationDF, {'transformationsData': [{'transformation_label': 'String Indexer', 'feature_label': 'Last Name'}], 'feature': 'Last Name', 'type': 'string', 'selected': 'True', 'replaceby': 'max', 'stats': {\n",
    "            'count': '351', 'mean': '', 'stddev': '', 'min': 'ABXXXXX', 'max': 'ZAXXXXXX', 'missing': '0'}, 'transformation': [{'transformation': 'String Indexer', 'selectedAsDefault': 1}], 'updatedLabel': 'Last Name'}, {'transformation_label': 'String Indexer', 'feature_label': 'Last Name'})\n",
    "        transformationDF = transformationDF.drop('Last Name')\n",
    "        transformationDF = StringIndexerTransform(transformationDF, {'transformationsData': [{'transformation_label': 'String Indexer', 'feature_label': 'Address'}], 'feature': 'Address', 'type': 'string', 'selected': 'True', 'replaceby': 'max', 'stats': {\n",
    "            'count': '351', 'mean': '', 'stddev': '', 'min': '1003 WESTVIEW CT', 'max': '9826 NEWLAND CT', 'missing': '0'}, 'transformation': [{'transformation': 'String Indexer', 'selectedAsDefault': 1}], 'updatedLabel': 'Address'}, {'transformation_label': 'String Indexer', 'feature_label': 'Address'})\n",
    "        transformationDF = transformationDF.drop('Address')\n",
    "        transformationDF = StringIndexerTransform(transformationDF, {'transformationsData': [{'transformation_label': 'String Indexer', 'feature_label': 'State'}], 'feature': 'State', 'type': 'string', 'selected': 'True', 'replaceby': 'max', 'stats': {\n",
    "            'count': '351', 'mean': '', 'stddev': '', 'min': 'CO', 'max': 'CO', 'missing': '0'}, 'transformation': [{'transformation': 'String Indexer', 'selectedAsDefault': 1}], 'updatedLabel': 'State'}, {'transformation_label': 'String Indexer', 'feature_label': 'State'})\n",
    "        transformationDF = transformationDF.drop('State')\n",
    "        transformationDF = StringIndexerTransform(transformationDF, {'transformationsData': [{'transformation_label': 'String Indexer', 'feature_label': 'MOSAIC HOUSEHOLD'}], 'feature': 'MOSAIC HOUSEHOLD', 'type': 'string', 'selected': 'True', 'replaceby': 'max', 'stats': {\n",
    "            'count': '351', 'mean': '', 'stddev': '', 'min': 'A01', 'max': 'U00', 'missing': '0'}, 'transformation': [{'transformation': 'String Indexer', 'selectedAsDefault': 1}], 'updatedLabel': 'MOSAIC HOUSEHOLD'}, {'transformation_label': 'String Indexer', 'feature_label': 'MOSAIC HOUSEHOLD'})\n",
    "        transformationDF = transformationDF.drop('MOSAIC HOUSEHOLD')\n",
    "        transformationDF = StringIndexerTransform(transformationDF, {'transformationsData': [{'transformation_label': 'String Indexer', 'feature_label': 'MOSAIC DESCRIPTION'}], 'feature': 'MOSAIC DESCRIPTION', 'type': 'string', 'selected': 'True', 'replaceby': 'max', 'stats': {\n",
    "            'count': '351', 'mean': '', 'stddev': '', 'min': 'Autumn Years', 'max': 'Young City Solos', 'missing': '0'}, 'transformation': [{'transformation': 'String Indexer', 'selectedAsDefault': 1}], 'updatedLabel': 'MOSAIC DESCRIPTION'}, {'transformation_label': 'String Indexer', 'feature_label': 'MOSAIC DESCRIPTION'})\n",
    "        transformationDF = transformationDF.drop('MOSAIC DESCRIPTION')\n",
    "        transformationDF = StringIndexerTransform(transformationDF, {'transformationsData': [{'transformation_label': 'String Indexer', 'feature_label': 'Channel'}], 'feature': 'Channel', 'type': 'string', 'selected': 'True', 'replaceby': 'max', 'stats': {\n",
    "            'count': '351', 'mean': '', 'stddev': '', 'min': 'Catalog', 'max': 'eCommerce', 'missing': '0'}, 'transformation': [{'transformation': 'String Indexer', 'selectedAsDefault': 1}], 'updatedLabel': 'Channel'}, {'transformation_label': 'String Indexer', 'feature_label': 'Channel'})\n",
    "        transformationDF = transformationDF.drop('Channel')\n",
    "        display(transformationDF.limit(2).toPandas())\n",
    "        return transformationDF\n"
   ]
  },
  {
   "cell_type": "markdown",
   "metadata": {},
   "source": [
    "***AUTOML FUNCTIONS***"
   ]
  },
  {
   "cell_type": "code",
   "execution_count": null,
   "metadata": {},
   "outputs": [],
   "source": [
    "from sklearn.linear_model import LogisticRegression\n",
    "from sklearn.model_selection import train_test_split\n",
    "\n",
    "\n",
    "def LogisticRegressionClassifier(df, labels, features):\n",
    "    sparkDF.persist(pyspark.StorageLevel.MEMORY_AND_DISK)\n",
    "    df = (sparkDF.toPandas())\n",
    "    logistic_regression = LogisticRegression()\n",
    "    X_train, X_test, y_train, y_test = train_test_split(\n",
    "        df[features], df[labels])\n",
    "    logistic_regression.fit(X_train, y_train)\n",
    "    display(\" Accuracy of Model : %s\" %\n",
    "            logistic_regression.score(X_test, y_test))\n",
    "\n",
    "    data = {'model': sparkDF,\n",
    "            'X_test': X_test,\n",
    "            'y_test': y_test,\n",
    "            'label': labels,\n",
    "            'columnNames': df.columns}\n",
    "    return data\n"
   ]
  },
  {
   "cell_type": "markdown",
   "metadata": {},
   "source": [
    "***READING DATAFRAME***"
   ]
  },
  {
   "cell_type": "code",
   "execution_count": null,
   "metadata": {},
   "outputs": [],
   "source": [
    "#%run customeracquisitionappHooks.ipynb\n",
    "try:\n",
    "\t#sourcePreExecutionHook()\n",
    "\n",
    "\tcustomeracquisitiontrain = HDFSConnector.fetch(spark, \"{'url': '/FileStore/platform/uploadedSourceFiles/1613392024258_CustomerAcquisitionTrain.csv', 'file_type': 'Delimeted', 'delimiter': ',', 'is_header': 'Use Header Line', 'FilePath': '/Retail and Marketing models/Customer Acquisition-Classification/CustomerAcquisitionTrain.csv', 'filename': '1613392024258_CustomerAcquisitionTrain.csv', 'viewFileName': 'CustomerAcquisitionTrain.csv'}\")\n",
    "\n",
    "except Exception as ex: \n",
    "\tlogging.error(ex)\n"
   ]
  },
  {
   "cell_type": "markdown",
   "metadata": {},
   "source": [
    "***TRANSFORMING DATAFRAME***"
   ]
  },
  {
   "cell_type": "code",
   "execution_count": null,
   "metadata": {},
   "outputs": [],
   "source": [
    "#%run customeracquisitionappHooks.ipynb\n",
    "try:\n",
    "\t#transformationPreExecutionHook()\n",
    "\n",
    "\tmanualfe = TransformationMain.run(customeracquisitiontrain,json.dumps( {\"FE\": [{\"transformationsData\": [{\"transformation_label\": \"String Indexer\", \"feature_label\": \"City\"}], \"feature\": \"City\", \"type\": \"string\", \"selected\": \"True\", \"replaceby\": \"max\", \"stats\": {\"count\": \"351\", \"mean\": \"\", \"stddev\": \"\", \"min\": \"ARVADA\", \"max\": \"WHEAT RIDGE\", \"missing\": \"0\"}, \"transformation\": [{\"transformation\": \"String Indexer\", \"selectedAsDefault\": 1}], \"updatedLabel\": \"City\"}, {\"transformationsData\": [{\"transformation_label\": \"String Indexer\", \"feature_label\": \"Product_Category\"}], \"feature\": \"Product_Category\", \"type\": \"string\", \"selected\": \"True\", \"replaceby\": \"max\", \"stats\": {\"count\": \"351\", \"mean\": \"\", \"stddev\": \"\", \"min\": \"Furniture\", \"max\": \"Technology\", \"missing\": \"0\"}, \"transformation\": [{\"transformation\": \"String Indexer\", \"selectedAsDefault\": 1}], \"updatedLabel\": \"Product_Category\"}, {\"transformationsData\": [{\"transformation_label\": \"String Indexer\", \"feature_label\": \"Product_Sub-Category\"}], \"feature\": \"Product_Sub-Category\", \"type\": \"string\", \"selected\": \"True\", \"replaceby\": \"max\", \"stats\": {\"count\": \"351\", \"mean\": \"\", \"stddev\": \"\", \"min\": \"Appliances\", \"max\": \"Telephones and Communication\", \"missing\": \"0\"}, \"transformation\": [{\"transformation\": \"String Indexer\", \"selectedAsDefault\": 1}], \"updatedLabel\": \"Product_Sub-Category\"}, {\"transformationsData\": [{\"transformation_label\": \"novalue\"}], \"feature\": \"Count\", \"transformation\": [{\"transformation\": \"novalue\", \"selectedAsDefault\": 1}], \"type\": \"numeric\", \"replaceby\": \"mean\", \"selected\": \"True\", \"stats\": {\"count\": \"351\", \"mean\": \"1.09\", \"stddev\": \"0.33\", \"min\": \"1\", \"max\": \"4\", \"missing\": \"0\"}, \"updatedLabel\": \"Count\"}, {\"transformationsData\": [{\"transformation_label\": \"novalue\"}], \"feature\": \"Customer ID\", \"transformation\": [{\"transformation\": \"novalue\", \"selectedAsDefault\": 1}], \"type\": \"numeric\", \"replaceby\": \"mean\", \"selected\": \"True\", \"stats\": {\"count\": \"351\", \"mean\": \"1744.81\", \"stddev\": \"967.81\", \"min\": \"15\", \"max\": \"3394\", \"missing\": \"0\"}, \"updatedLabel\": \"Customer ID\"}, {\"transformationsData\": [{\"transformation_label\": \"novalue\"}], \"feature\": \"Store Number\", \"transformation\": [{\"transformation\": \"novalue\", \"selectedAsDefault\": 1}], \"type\": \"numeric\", \"replaceby\": \"mean\", \"selected\": \"True\", \"stats\": {\"count\": \"351\", \"mean\": \"102.42\", \"stddev\": \"1.86\", \"min\": \"100\", \"max\": \"105\", \"missing\": \"0\"}, \"updatedLabel\": \"Store Number\"}, {\"transformationsData\": [{\"transformation_label\": \"String Indexer\", \"feature_label\": \"Customer Segment\"}], \"feature\": \"Customer Segment\", \"type\": \"string\", \"selected\": \"True\", \"replaceby\": \"max\", \"stats\": {\"count\": \"351\", \"mean\": \"\", \"stddev\": \"\", \"min\": \"Consumer\", \"max\": \"Small Business\", \"missing\": \"0\"}, \"transformation\": [{\"transformation\": \"String Indexer\", \"selectedAsDefault\": 1}], \"updatedLabel\": \"Customer Segment\"}, {\"transformationsData\": [{\"transformation_label\": \"String Indexer\", \"feature_label\": \"First Name\"}], \"feature\": \"First Name\", \"type\": \"string\", \"selected\": \"True\", \"replaceby\": \"max\", \"stats\": {\"count\": \"351\", \"mean\": \"\", \"stddev\": \"\", \"min\": \"ALXXX\", \"max\": \"WX\", \"missing\": \"0\"}, \"transformation\": [{\"transformation\": \"String Indexer\", \"selectedAsDefault\": 1}], \"updatedLabel\": \"First Name\"}, {\"transformationsData\": [{\"transformation_label\": \"String Indexer\", \"feature_label\": \"Last Name\"}], \"feature\": \"Last Name\", \"type\": \"string\", \"selected\": \"True\", \"replaceby\": \"max\", \"stats\": {\"count\": \"351\", \"mean\": \"\", \"stddev\": \"\", \"min\": \"ABXXXXX\", \"max\": \"ZAXXXXXX\", \"missing\": \"0\"}, \"transformation\": [{\"transformation\": \"String Indexer\", \"selectedAsDefault\": 1}], \"updatedLabel\": \"Last Name\"}, {\"transformationsData\": [{\"transformation_label\": \"String Indexer\", \"feature_label\": \"Address\"}], \"feature\": \"Address\", \"type\": \"string\", \"selected\": \"True\", \"replaceby\": \"max\", \"stats\": {\"count\": \"351\", \"mean\": \"\", \"stddev\": \"\", \"min\": \"1003 WESTVIEW CT\", \"max\": \"9826 NEWLAND CT\", \"missing\": \"0\"}, \"transformation\": [{\"transformation\": \"String Indexer\", \"selectedAsDefault\": 1}], \"updatedLabel\": \"Address\"}, {\"transformationsData\": [{\"transformation_label\": \"String Indexer\", \"feature_label\": \"State\"}], \"feature\": \"State\", \"type\": \"string\", \"selected\": \"True\", \"replaceby\": \"max\", \"stats\": {\"count\": \"351\", \"mean\": \"\", \"stddev\": \"\", \"min\": \"CO\", \"max\": \"CO\", \"missing\": \"0\"}, \"transformation\": [{\"transformation\": \"String Indexer\", \"selectedAsDefault\": 1}], \"updatedLabel\": \"State\"}, {\"transformationsData\": [{\"transformation_label\": \"novalue\"}], \"feature\": \"Zip\", \"transformation\": [{\"transformation\": \"novalue\", \"selectedAsDefault\": 1}], \"type\": \"numeric\", \"replaceby\": \"mean\", \"selected\": \"True\", \"stats\": {\"count\": \"351\", \"mean\": \"80117.81\", \"stddev\": \"102.98\", \"min\": \"80002\", \"max\": \"80403\", \"missing\": \"0\"}, \"updatedLabel\": \"Zip\"}, {\"transformationsData\": [{\"transformation_label\": \"novalue\"}], \"feature\": \"DriveTime\", \"type\": \"real\", \"selected\": \"True\", \"replaceby\": \"mean\", \"stats\": {\"count\": \"351\", \"mean\": \"13.0\", \"stddev\": \"7.4\", \"min\": \"1.1\", \"max\": \"30.0\", \"missing\": \"0\"}, \"transformation\": [{\"transformation\": \"novalue\", \"selectedAsDefault\": 1}], \"updatedLabel\": \"DriveTime\"}, {\"transformationsData\": [{\"transformation_label\": \"novalue\"}], \"feature\": \"Length of Residense\", \"transformation\": [{\"transformation\": \"novalue\", \"selectedAsDefault\": 1}], \"type\": \"numeric\", \"replaceby\": \"mean\", \"selected\": \"True\", \"stats\": {\"count\": \"351\", \"mean\": \"10.31\", \"stddev\": \"10.28\", \"min\": \"0\", \"max\": \"50\", \"missing\": \"0\"}, \"updatedLabel\": \"Length of Residense\"}, {\"transformationsData\": [{\"transformation_label\": \"novalue\"}], \"feature\": \"MOR BANK: UPSCALE MERCHANDISE BUYER\", \"transformation\": [{\"transformation\": \"novalue\", \"selectedAsDefault\": 1}], \"type\": \"numeric\", \"replaceby\": \"mean\", \"selected\": \"True\", \"stats\": {\"count\": \"351\", \"mean\": \"0.01\", \"stddev\": \"0.09\", \"min\": \"0\", \"max\": \"1\", \"missing\": \"0\"}, \"updatedLabel\": \"MOR BANK: UPSCALE MERCHAN...\"}, {\"transformationsData\": [{\"transformation_label\": \"String Indexer\", \"feature_label\": \"MOSAIC HOUSEHOLD\"}], \"feature\": \"MOSAIC HOUSEHOLD\", \"type\": \"string\", \"selected\": \"True\", \"replaceby\": \"max\", \"stats\": {\"count\": \"351\", \"mean\": \"\", \"stddev\": \"\", \"min\": \"A01\", \"max\": \"U00\", \"missing\": \"0\"}, \"transformation\": [{\"transformation\": \"String Indexer\", \"selectedAsDefault\": 1}], \"updatedLabel\": \"MOSAIC HOUSEHOLD\"}, {\"transformationsData\": [{\"transformation_label\": \"String Indexer\", \"feature_label\": \"MOSAIC DESCRIPTION\"}], \"feature\": \"MOSAIC DESCRIPTION\", \"type\": \"string\", \"selected\": \"True\", \"replaceby\": \"max\", \"stats\": {\"count\": \"351\", \"mean\": \"\", \"stddev\": \"\", \"min\": \"Autumn Years\", \"max\": \"Young City Solos\", \"missing\": \"0\"}, \"transformation\": [{\"transformation\": \"String Indexer\", \"selectedAsDefault\": 1}], \"updatedLabel\": \"MOSAIC DESCRIPTION\"}, {\"transformationsData\": [{\"transformation_label\": \"novalue\"}], \"feature\": \"Customer_Lon\", \"type\": \"real\", \"selected\": \"True\", \"replaceby\": \"mean\", \"stats\": {\"count\": \"351\", \"mean\": \"-104.93\", \"stddev\": \"0.12\", \"min\": \"-105.226518\", \"max\": \"-104.705046\", \"missing\": \"0\"}, \"transformation\": [{\"transformation\": \"novalue\", \"selectedAsDefault\": 1}], \"updatedLabel\": \"Customer_Lon\"}, {\"transformationsData\": [{\"transformation_label\": \"novalue\"}], \"feature\": \"Customer_Lat\", \"type\": \"real\", \"selected\": \"True\", \"replaceby\": \"mean\", \"stats\": {\"count\": \"351\", \"mean\": \"39.7\", \"stddev\": \"0.09\", \"min\": \"39.494126\", \"max\": \"39.998058\", \"missing\": \"0\"}, \"transformation\": [{\"transformation\": \"novalue\", \"selectedAsDefault\": 1}], \"updatedLabel\": \"Customer_Lat\"}, {\"transformationsData\": [{\"transformation_label\": \"novalue\"}], \"feature\": \"Store ID\", \"transformation\": [{\"transformation\": \"novalue\", \"selectedAsDefault\": 1}], \"type\": \"numeric\", \"replaceby\": \"mean\", \"selected\": \"True\", \"stats\": {\"count\": \"351\", \"mean\": \"102.42\", \"stddev\": \"1.86\", \"min\": \"100\", \"max\": \"105\", \"missing\": \"0\"}, \"updatedLabel\": \"Store ID\"}, {\"transformationsData\": [{\"transformation_label\": \"novalue\"}], \"feature\": \"Store_Lon\", \"type\": \"real\", \"selected\": \"True\", \"replaceby\": \"mean\", \"stats\": {\"count\": \"351\", \"mean\": \"-104.93\", \"stddev\": \"0.12\", \"min\": \"-105.077754\", \"max\": \"-104.717928\", \"missing\": \"0\"}, \"transformation\": [{\"transformation\": \"novalue\", \"selectedAsDefault\": 1}], \"updatedLabel\": \"Store_Lon\"}, {\"transformationsData\": [{\"transformation_label\": \"novalue\"}], \"feature\": \"Store_Lat\", \"type\": \"real\", \"selected\": \"True\", \"replaceby\": \"mean\", \"stats\": {\"count\": \"351\", \"mean\": \"39.7\", \"stddev\": \"0.08\", \"min\": \"39.565799\", \"max\": \"39.856274\", \"missing\": \"0\"}, \"transformation\": [{\"transformation\": \"novalue\", \"selectedAsDefault\": 1}], \"updatedLabel\": \"Store_Lat\"}, {\"transformationsData\": [{\"transformation_label\": \"String Indexer\", \"feature_label\": \"Channel\"}], \"feature\": \"Channel\", \"type\": \"string\", \"selected\": \"True\", \"replaceby\": \"max\", \"stats\": {\"count\": \"351\", \"mean\": \"\", \"stddev\": \"\", \"min\": \"Catalog\", \"max\": \"eCommerce\", \"missing\": \"0\"}, \"transformation\": [{\"transformation\": \"String Indexer\", \"selectedAsDefault\": 1}], \"updatedLabel\": \"Channel\"}]}))\n",
    "\n",
    "\t#transformationPostExecutionHook(manualfe)\n",
    "\n",
    "except Exception as ex: \n",
    "\tlogging.error(ex)\n"
   ]
  },
  {
   "cell_type": "markdown",
   "metadata": {},
   "source": [
    "***TRAIN MODEL***"
   ]
  },
  {
   "cell_type": "code",
   "execution_count": null,
   "metadata": {},
   "outputs": [],
   "source": [
    "#%run customeracquisitionappHooks.ipynb\n",
    "try:\n",
    "\t#mlPreExecutionHook()\n",
    "\n",
    "\tdataAutoML=LogisticRegression(manualfe, [\"City_stringindexer\", \"Product_Category_stringindexer\", \"Product_Sub-Category_stringindexer\", \"Count\", \"Customer ID\", \"Store Number\", \"Customer Segment_stringindexer\", \"First Name_stringindexer\", \"Last Name_stringindexer\", \"Address_stringindexer\", \"State_stringindexer\", \"Zip\", \"DriveTime\", \"Length of Residense\", \"MOR BANK: UPSCALE MERCHANDISE BUYER\", \"MOSAIC HOUSEHOLD_stringindexer\", \"MOSAIC DESCRIPTION_stringindexer\", \"Customer_Lon\", \"Customer_Lat\", \"Store ID\", \"Store_Lon\", \"Store_Lat\"], \"Channel_stringindexer\")\n",
    "\n",
    "\t#mlPostExecutionHook(dataAutoML)\n",
    "\n",
    "except Exception as ex: \n",
    "\tlogging.error(ex)\n"
   ]
  }
 ],
 "metadata": {},
 "nbformat": 4,
 "nbformat_minor": 2
}
